
# Uber Fares Dataset - Step 2: Exploratory Data Analysis (EDA)
# Course: INSY 8413 - Introduction to Big Data Analytics

import pandas as pd
import seaborn as sns
import matplotlib.pyplot as plt

# Load the cleaned dataset
df = pd.read_csv('uber_cleaned.csv')

# 2.1 Descriptive Statistics
print("Mean Fare:", df['Fare_amount'].mean())
print("Median Fare:", df['Fare_amount'].median())
print("Mode Fare:", df['Fare_amount'].mode()[0])
print("Standard Deviation:", df['Fare_amount'].std())
print("\nQuartiles:")
print(df['Fare_amount'].quantile([0.25, 0.5, 0.75]))
print("Range:", df['Fare_amount'].max() - df['Fare_amount'].min())

# 2.2 Outlier Detection using Boxplot
plt.figure(figsize=(8, 5))
sns.boxplot(x=df['Fare_amount'])
plt.title('Fare Amount - Boxplot')
plt.xlabel('Fare Amount')
plt.savefig('fare_boxplot.png')
plt.show()

# 2.3 Fare Distribution (Histogram)
plt.figure(figsize=(8, 5))
sns.histplot(df['Fare_amount'], bins=50, kde=True)
plt.title('Distribution of Fare Amount')
plt.xlabel('Fare Amount')
plt.ylabel('Frequency')
plt.savefig('fare_histogram.png')
plt.show()

# 2.4 Relationships (placeholders - replace if columns available)
if 'Distance' in df.columns:
    sns.scatterplot(x='Distance', y='Fare_amount', data=df)
    plt.title('Fare vs Distance')
    plt.xlabel('Distance')
    plt.ylabel('Fare')
    plt.savefig('fare_vs_distance.png')
    plt.show()
else:
    print("No 'Distance' column found. Skip fare vs distance plot.")

# If timestamp available, we can extract hour/time for further analysis in Step 3
