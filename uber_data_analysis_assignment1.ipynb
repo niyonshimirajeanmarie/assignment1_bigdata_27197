{
 "cells": [
  {
   "cell_type": "code",
   "execution_count": null,
   "id": "fe4557e5",
   "metadata": {},
   "outputs": [],
   "source": [
    "\n",
    "import pandas as pd\n",
    "\n",
    "# Load CSV\n",
    "df = pd.read_csv('Uber-Jan-Feb-FOIL.csv')\n",
    "df.head()\n"
   ]
  },
  {
   "cell_type": "code",
   "execution_count": null,
   "id": "87ea5037",
   "metadata": {},
   "outputs": [],
   "source": [
    "\n",
    "# Check info\n",
    "print(df.info())\n",
    "\n",
    "# Convert date\n",
    "df['date'] = pd.to_datetime(df['date'], errors='coerce')\n",
    "\n",
    "# Remove rows with missing values in key columns\n",
    "df.dropna(subset=['dispatching_base_number', 'date', 'active_vehicles', 'trips'], inplace=True)\n",
    "\n",
    "# Remove duplicates\n",
    "df.drop_duplicates(inplace=True)\n",
    "\n",
    "# Rename columns\n",
    "df.columns = df.columns.str.lower().str.replace(' ', '_')\n",
    "\n",
    "df.head()\n"
   ]
  },
  {
   "cell_type": "code",
   "execution_count": null,
   "id": "e71d6d87",
   "metadata": {},
   "outputs": [],
   "source": [
    "\n",
    "# Add Day of Week\n",
    "df['day_of_week'] = df['date'].dt.day_name()\n",
    "\n",
    "# Encode base\n",
    "df['base_encoded'] = df['dispatching_base_number'].astype('category').cat.codes\n",
    "\n",
    "# Peak hour flag (optional)\n",
    "df['is_peak'] = df['day_of_week'].isin(['Saturday', 'Sunday'])\n",
    "\n",
    "df.head()\n"
   ]
  },
  {
   "cell_type": "code",
   "execution_count": null,
   "id": "33798c1b",
   "metadata": {},
   "outputs": [],
   "source": [
    "\n",
    "# Basic stats\n",
    "print(df.describe())\n",
    "\n",
    "# Mode for categorical\n",
    "print(df.mode(numeric_only=False).iloc[0])\n"
   ]
  },
  {
   "cell_type": "code",
   "execution_count": null,
   "id": "fd837681",
   "metadata": {},
   "outputs": [],
   "source": [
    "\n",
    "import matplotlib.pyplot as plt\n",
    "import seaborn as sns\n",
    "\n",
    "# Trips distribution\n",
    "plt.figure(figsize=(10,5))\n",
    "sns.histplot(df['trips'], bins=30, kde=True)\n",
    "plt.title('Distribution of Trips')\n",
    "plt.xlabel('Number of Trips')\n",
    "plt.ylabel('Frequency')\n",
    "plt.show()\n",
    "\n",
    "# Trips vs Active Vehicles\n",
    "plt.figure(figsize=(10,5))\n",
    "sns.scatterplot(data=df, x='active_vehicles', y='trips', hue='dispatching_base_number')\n",
    "plt.title('Trips vs Active Vehicles')\n",
    "plt.show()\n",
    "\n",
    "# Average trips per day\n",
    "avg_trips = df.groupby('day_of_week')['trips'].mean().reindex(\n",
    "    ['Monday','Tuesday','Wednesday','Thursday','Friday','Saturday','Sunday'])\n",
    "\n",
    "avg_trips.plot(kind='bar', title='Average Trips per Day', figsize=(8,4))\n",
    "plt.ylabel('Trips')\n",
    "plt.show()\n"
   ]
  },
  {
   "cell_type": "code",
   "execution_count": null,
   "id": "a6a9ecf8",
   "metadata": {},
   "outputs": [],
   "source": [
    "\n",
    "# Save cleaned data\n",
    "df.to_csv('enhanced_uber_fares.csv', index=False)\n",
    "print(\"✅ Data exported successfully.\")\n"
   ]
  }
 ],
 "metadata": {
  "kernelspec": {
   "display_name": "Python [conda env:base] *",
   "language": "python",
   "name": "conda-base-py"
  },
  "language_info": {
   "codemirror_mode": {
    "name": "ipython",
    "version": 3
   },
   "file_extension": ".py",
   "mimetype": "text/x-python",
   "name": "python",
   "nbconvert_exporter": "python",
   "pygments_lexer": "ipython3",
   "version": "3.12.4"
  }
 },
 "nbformat": 4,
 "nbformat_minor": 5
}
