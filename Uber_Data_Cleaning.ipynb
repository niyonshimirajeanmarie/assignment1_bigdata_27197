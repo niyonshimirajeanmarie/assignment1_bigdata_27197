
# Uber Fares Dataset - Data Cleaning and Preparation (Step 1)
# Course: INSY 8413 - Introduction to Big Data Analytics

import pandas as pd

# Step 1.1: Load Dataset
df = pd.read_csv('uber.csv')  # Replace 'uber.csv' with your actual filename
print("First 5 rows:")
print(df.head())

# Step 1.2: Understand Dataset
print("\nShape of dataset:", df.shape)
print("\nData types:\n", df.dtypes)
print("\nSummary statistics:\n", df.describe(include='all'))
print("\nMissing values:\n", df.isnull().sum())

# Step 1.3: Handle Missing Data
df_cleaned = df.dropna()
df_cleaned.reset_index(drop=True, inplace=True)
print("\nMissing values after cleaning:\n", df_cleaned.isnull().sum())

# Step 1.4: Export Cleaned Dataset
df_cleaned.to_csv('uber_cleaned.csv', index=False)
print("\n✅ Cleaned dataset saved as 'uber_cleaned.csv'")
