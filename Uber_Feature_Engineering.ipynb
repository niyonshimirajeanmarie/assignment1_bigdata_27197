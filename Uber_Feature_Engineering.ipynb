
# Uber Fares Dataset - Step 3: Feature Engineering
# Course: INSY 8413 - Introduction to Big Data Analytics

import pandas as pd

# Load cleaned dataset
df = pd.read_csv('uber_cleaned.csv')

# Convert datetime column to datetime type
if 'pickup_datetime' in df.columns:
    df['pickup_datetime'] = pd.to_datetime(df['pickup_datetime'])

    # Extract new time-based features
    df['hour'] = df['pickup_datetime'].dt.hour
    df['day'] = df['pickup_datetime'].dt.day
    df['month'] = df['pickup_datetime'].dt.month
    df['day_of_week'] = df['pickup_datetime'].dt.day_name()

    # Create peak hour indicator (example: peak hours 7-9 AM, 4-7 PM)
    df['peak_hour'] = df['hour'].apply(lambda x: 'Peak' if (7 <= x <= 9 or 16 <= x <= 19) else 'Off-Peak')
else:
    print("pickup_datetime column not found in dataset. Please ensure it exists.")

# Check for any categorical columns and encode if needed (optional step)
# For now, we assume only 'peak_hour' is needed as a new category

# Save the enhanced dataset for Power BI
df.to_csv('uber_enhanced.csv', index=False)
print("✅ Feature-enhanced dataset saved as 'uber_enhanced.csv'")
